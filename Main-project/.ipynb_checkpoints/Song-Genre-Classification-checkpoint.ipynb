{
 "cells": [
  {
   "cell_type": "markdown",
   "metadata": {},
   "source": [
    "# Classify Song Genres from Audio Data"
   ]
  },
  {
   "cell_type": "markdown",
   "metadata": {},
   "source": [
    "# Tasks"
   ]
  },
  {
   "cell_type": "markdown",
   "metadata": {},
   "source": [
    "## Preparing our Data Set"
   ]
  },
  {
   "cell_type": "code",
   "execution_count": 1,
   "metadata": {},
   "outputs": [],
   "source": [
    "import pandas as pd\n",
    "import seaborn as sns\n",
    "import matplotlib.pyplot as plt\n",
    "import numpy as np\n",
    "\n",
    "%matplotlib inline"
   ]
  },
  {
   "cell_type": "code",
   "execution_count": 2,
   "metadata": {},
   "outputs": [],
   "source": [
    "#importing datasets\n",
    "tracks = pd.read_csv('fma-rock-vs-hiphop.csv')\n",
    "echonest = pd.read_json('echonest-metrics.json')"
   ]
  },
  {
   "cell_type": "code",
   "execution_count": 3,
   "metadata": {},
   "outputs": [],
   "source": [
    "pd.set_option('display.max_columns', None)"
   ]
  },
  {
   "cell_type": "code",
   "execution_count": 4,
   "metadata": {},
   "outputs": [
    {
     "data": {
      "text/html": [
       "<div>\n",
       "<style scoped>\n",
       "    .dataframe tbody tr th:only-of-type {\n",
       "        vertical-align: middle;\n",
       "    }\n",
       "\n",
       "    .dataframe tbody tr th {\n",
       "        vertical-align: top;\n",
       "    }\n",
       "\n",
       "    .dataframe thead th {\n",
       "        text-align: right;\n",
       "    }\n",
       "</style>\n",
       "<table border=\"1\" class=\"dataframe\">\n",
       "  <thead>\n",
       "    <tr style=\"text-align: right;\">\n",
       "      <th></th>\n",
       "      <th>track_id</th>\n",
       "      <th>bit_rate</th>\n",
       "      <th>comments</th>\n",
       "      <th>composer</th>\n",
       "      <th>date_created</th>\n",
       "      <th>date_recorded</th>\n",
       "      <th>duration</th>\n",
       "      <th>favorites</th>\n",
       "      <th>genre_top</th>\n",
       "      <th>genres</th>\n",
       "      <th>genres_all</th>\n",
       "      <th>information</th>\n",
       "      <th>interest</th>\n",
       "      <th>language_code</th>\n",
       "      <th>license</th>\n",
       "      <th>listens</th>\n",
       "      <th>lyricist</th>\n",
       "      <th>number</th>\n",
       "      <th>publisher</th>\n",
       "      <th>tags</th>\n",
       "      <th>title</th>\n",
       "    </tr>\n",
       "  </thead>\n",
       "  <tbody>\n",
       "    <tr>\n",
       "      <th>0</th>\n",
       "      <td>135</td>\n",
       "      <td>256000</td>\n",
       "      <td>1</td>\n",
       "      <td>NaN</td>\n",
       "      <td>2008-11-26 01:43:26</td>\n",
       "      <td>2008-11-26 00:00:00</td>\n",
       "      <td>837</td>\n",
       "      <td>0</td>\n",
       "      <td>Rock</td>\n",
       "      <td>[45, 58]</td>\n",
       "      <td>[58, 12, 45]</td>\n",
       "      <td>NaN</td>\n",
       "      <td>2484</td>\n",
       "      <td>en</td>\n",
       "      <td>Attribution-NonCommercial-ShareAlike 3.0 Inter...</td>\n",
       "      <td>1832</td>\n",
       "      <td>NaN</td>\n",
       "      <td>0</td>\n",
       "      <td>NaN</td>\n",
       "      <td>[]</td>\n",
       "      <td>Father's Day</td>\n",
       "    </tr>\n",
       "    <tr>\n",
       "      <th>1</th>\n",
       "      <td>136</td>\n",
       "      <td>256000</td>\n",
       "      <td>1</td>\n",
       "      <td>NaN</td>\n",
       "      <td>2008-11-26 01:43:35</td>\n",
       "      <td>2008-11-26 00:00:00</td>\n",
       "      <td>509</td>\n",
       "      <td>0</td>\n",
       "      <td>Rock</td>\n",
       "      <td>[45, 58]</td>\n",
       "      <td>[58, 12, 45]</td>\n",
       "      <td>NaN</td>\n",
       "      <td>1948</td>\n",
       "      <td>en</td>\n",
       "      <td>Attribution-NonCommercial-ShareAlike 3.0 Inter...</td>\n",
       "      <td>1498</td>\n",
       "      <td>NaN</td>\n",
       "      <td>0</td>\n",
       "      <td>NaN</td>\n",
       "      <td>[]</td>\n",
       "      <td>Peel Back The Mountain Sky</td>\n",
       "    </tr>\n",
       "    <tr>\n",
       "      <th>2</th>\n",
       "      <td>151</td>\n",
       "      <td>192000</td>\n",
       "      <td>0</td>\n",
       "      <td>NaN</td>\n",
       "      <td>2008-11-26 01:44:55</td>\n",
       "      <td>NaN</td>\n",
       "      <td>192</td>\n",
       "      <td>0</td>\n",
       "      <td>Rock</td>\n",
       "      <td>[25]</td>\n",
       "      <td>[25, 12]</td>\n",
       "      <td>NaN</td>\n",
       "      <td>701</td>\n",
       "      <td>en</td>\n",
       "      <td>Attribution-NonCommercial-ShareAlike 3.0 Inter...</td>\n",
       "      <td>148</td>\n",
       "      <td>NaN</td>\n",
       "      <td>4</td>\n",
       "      <td>NaN</td>\n",
       "      <td>[]</td>\n",
       "      <td>Untitled 04</td>\n",
       "    </tr>\n",
       "    <tr>\n",
       "      <th>3</th>\n",
       "      <td>152</td>\n",
       "      <td>192000</td>\n",
       "      <td>0</td>\n",
       "      <td>NaN</td>\n",
       "      <td>2008-11-26 01:44:58</td>\n",
       "      <td>NaN</td>\n",
       "      <td>193</td>\n",
       "      <td>0</td>\n",
       "      <td>Rock</td>\n",
       "      <td>[25]</td>\n",
       "      <td>[25, 12]</td>\n",
       "      <td>NaN</td>\n",
       "      <td>637</td>\n",
       "      <td>en</td>\n",
       "      <td>Attribution-NonCommercial-ShareAlike 3.0 Inter...</td>\n",
       "      <td>98</td>\n",
       "      <td>NaN</td>\n",
       "      <td>11</td>\n",
       "      <td>NaN</td>\n",
       "      <td>[]</td>\n",
       "      <td>Untitled 11</td>\n",
       "    </tr>\n",
       "    <tr>\n",
       "      <th>4</th>\n",
       "      <td>153</td>\n",
       "      <td>256000</td>\n",
       "      <td>0</td>\n",
       "      <td>Arc and Sender</td>\n",
       "      <td>2008-11-26 01:45:00</td>\n",
       "      <td>2008-11-26 00:00:00</td>\n",
       "      <td>405</td>\n",
       "      <td>5</td>\n",
       "      <td>Rock</td>\n",
       "      <td>[26]</td>\n",
       "      <td>[26, 12]</td>\n",
       "      <td>NaN</td>\n",
       "      <td>354</td>\n",
       "      <td>en</td>\n",
       "      <td>Attribution-NonCommercial-NoDerivatives (aka M...</td>\n",
       "      <td>424</td>\n",
       "      <td>NaN</td>\n",
       "      <td>2</td>\n",
       "      <td>NaN</td>\n",
       "      <td>[]</td>\n",
       "      <td>Hundred-Year Flood</td>\n",
       "    </tr>\n",
       "  </tbody>\n",
       "</table>\n",
       "</div>"
      ],
      "text/plain": [
       "   track_id  bit_rate  comments        composer         date_created  \\\n",
       "0       135    256000         1             NaN  2008-11-26 01:43:26   \n",
       "1       136    256000         1             NaN  2008-11-26 01:43:35   \n",
       "2       151    192000         0             NaN  2008-11-26 01:44:55   \n",
       "3       152    192000         0             NaN  2008-11-26 01:44:58   \n",
       "4       153    256000         0  Arc and Sender  2008-11-26 01:45:00   \n",
       "\n",
       "         date_recorded  duration  favorites genre_top    genres    genres_all  \\\n",
       "0  2008-11-26 00:00:00       837          0      Rock  [45, 58]  [58, 12, 45]   \n",
       "1  2008-11-26 00:00:00       509          0      Rock  [45, 58]  [58, 12, 45]   \n",
       "2                  NaN       192          0      Rock      [25]      [25, 12]   \n",
       "3                  NaN       193          0      Rock      [25]      [25, 12]   \n",
       "4  2008-11-26 00:00:00       405          5      Rock      [26]      [26, 12]   \n",
       "\n",
       "  information  interest language_code  \\\n",
       "0         NaN      2484            en   \n",
       "1         NaN      1948            en   \n",
       "2         NaN       701            en   \n",
       "3         NaN       637            en   \n",
       "4         NaN       354            en   \n",
       "\n",
       "                                             license  listens lyricist  \\\n",
       "0  Attribution-NonCommercial-ShareAlike 3.0 Inter...     1832      NaN   \n",
       "1  Attribution-NonCommercial-ShareAlike 3.0 Inter...     1498      NaN   \n",
       "2  Attribution-NonCommercial-ShareAlike 3.0 Inter...      148      NaN   \n",
       "3  Attribution-NonCommercial-ShareAlike 3.0 Inter...       98      NaN   \n",
       "4  Attribution-NonCommercial-NoDerivatives (aka M...      424      NaN   \n",
       "\n",
       "   number publisher tags                       title  \n",
       "0       0       NaN   []                Father's Day  \n",
       "1       0       NaN   []  Peel Back The Mountain Sky  \n",
       "2       4       NaN   []                 Untitled 04  \n",
       "3      11       NaN   []                 Untitled 11  \n",
       "4       2       NaN   []          Hundred-Year Flood  "
      ]
     },
     "execution_count": 4,
     "metadata": {},
     "output_type": "execute_result"
    }
   ],
   "source": [
    "tracks.head()"
   ]
  },
  {
   "cell_type": "code",
   "execution_count": 5,
   "metadata": {},
   "outputs": [
    {
     "data": {
      "text/html": [
       "<div>\n",
       "<style scoped>\n",
       "    .dataframe tbody tr th:only-of-type {\n",
       "        vertical-align: middle;\n",
       "    }\n",
       "\n",
       "    .dataframe tbody tr th {\n",
       "        vertical-align: top;\n",
       "    }\n",
       "\n",
       "    .dataframe thead th {\n",
       "        text-align: right;\n",
       "    }\n",
       "</style>\n",
       "<table border=\"1\" class=\"dataframe\">\n",
       "  <thead>\n",
       "    <tr style=\"text-align: right;\">\n",
       "      <th></th>\n",
       "      <th>track_id</th>\n",
       "      <th>acousticness</th>\n",
       "      <th>danceability</th>\n",
       "      <th>energy</th>\n",
       "      <th>instrumentalness</th>\n",
       "      <th>liveness</th>\n",
       "      <th>speechiness</th>\n",
       "      <th>tempo</th>\n",
       "      <th>valence</th>\n",
       "    </tr>\n",
       "  </thead>\n",
       "  <tbody>\n",
       "    <tr>\n",
       "      <th>0</th>\n",
       "      <td>2</td>\n",
       "      <td>0.416675</td>\n",
       "      <td>0.675894</td>\n",
       "      <td>0.634476</td>\n",
       "      <td>0.010628</td>\n",
       "      <td>0.177647</td>\n",
       "      <td>0.159310</td>\n",
       "      <td>165.922</td>\n",
       "      <td>0.576661</td>\n",
       "    </tr>\n",
       "    <tr>\n",
       "      <th>1</th>\n",
       "      <td>3</td>\n",
       "      <td>0.374408</td>\n",
       "      <td>0.528643</td>\n",
       "      <td>0.817461</td>\n",
       "      <td>0.001851</td>\n",
       "      <td>0.105880</td>\n",
       "      <td>0.461818</td>\n",
       "      <td>126.957</td>\n",
       "      <td>0.269240</td>\n",
       "    </tr>\n",
       "    <tr>\n",
       "      <th>2</th>\n",
       "      <td>5</td>\n",
       "      <td>0.043567</td>\n",
       "      <td>0.745566</td>\n",
       "      <td>0.701470</td>\n",
       "      <td>0.000697</td>\n",
       "      <td>0.373143</td>\n",
       "      <td>0.124595</td>\n",
       "      <td>100.260</td>\n",
       "      <td>0.621661</td>\n",
       "    </tr>\n",
       "    <tr>\n",
       "      <th>3</th>\n",
       "      <td>10</td>\n",
       "      <td>0.951670</td>\n",
       "      <td>0.658179</td>\n",
       "      <td>0.924525</td>\n",
       "      <td>0.965427</td>\n",
       "      <td>0.115474</td>\n",
       "      <td>0.032985</td>\n",
       "      <td>111.562</td>\n",
       "      <td>0.963590</td>\n",
       "    </tr>\n",
       "    <tr>\n",
       "      <th>4</th>\n",
       "      <td>134</td>\n",
       "      <td>0.452217</td>\n",
       "      <td>0.513238</td>\n",
       "      <td>0.560410</td>\n",
       "      <td>0.019443</td>\n",
       "      <td>0.096567</td>\n",
       "      <td>0.525519</td>\n",
       "      <td>114.290</td>\n",
       "      <td>0.894072</td>\n",
       "    </tr>\n",
       "  </tbody>\n",
       "</table>\n",
       "</div>"
      ],
      "text/plain": [
       "   track_id  acousticness  danceability    energy  instrumentalness  liveness  \\\n",
       "0         2      0.416675      0.675894  0.634476          0.010628  0.177647   \n",
       "1         3      0.374408      0.528643  0.817461          0.001851  0.105880   \n",
       "2         5      0.043567      0.745566  0.701470          0.000697  0.373143   \n",
       "3        10      0.951670      0.658179  0.924525          0.965427  0.115474   \n",
       "4       134      0.452217      0.513238  0.560410          0.019443  0.096567   \n",
       "\n",
       "   speechiness    tempo   valence  \n",
       "0     0.159310  165.922  0.576661  \n",
       "1     0.461818  126.957  0.269240  \n",
       "2     0.124595  100.260  0.621661  \n",
       "3     0.032985  111.562  0.963590  \n",
       "4     0.525519  114.290  0.894072  "
      ]
     },
     "execution_count": 5,
     "metadata": {},
     "output_type": "execute_result"
    }
   ],
   "source": [
    "echonest.head()"
   ]
  },
  {
   "cell_type": "code",
   "execution_count": 6,
   "metadata": {},
   "outputs": [
    {
     "data": {
      "text/plain": [
       "(17734, 21)"
      ]
     },
     "execution_count": 6,
     "metadata": {},
     "output_type": "execute_result"
    }
   ],
   "source": [
    "tracks.shape"
   ]
  },
  {
   "cell_type": "code",
   "execution_count": 7,
   "metadata": {},
   "outputs": [
    {
     "name": "stdout",
     "output_type": "stream",
     "text": [
      "<class 'pandas.core.frame.DataFrame'>\n",
      "RangeIndex: 17734 entries, 0 to 17733\n",
      "Data columns (total 21 columns):\n",
      " #   Column         Non-Null Count  Dtype \n",
      "---  ------         --------------  ----- \n",
      " 0   track_id       17734 non-null  int64 \n",
      " 1   bit_rate       17734 non-null  int64 \n",
      " 2   comments       17734 non-null  int64 \n",
      " 3   composer       166 non-null    object\n",
      " 4   date_created   17734 non-null  object\n",
      " 5   date_recorded  1898 non-null   object\n",
      " 6   duration       17734 non-null  int64 \n",
      " 7   favorites      17734 non-null  int64 \n",
      " 8   genre_top      17734 non-null  object\n",
      " 9   genres         17734 non-null  object\n",
      " 10  genres_all     17734 non-null  object\n",
      " 11  information    482 non-null    object\n",
      " 12  interest       17734 non-null  int64 \n",
      " 13  language_code  4089 non-null   object\n",
      " 14  license        17714 non-null  object\n",
      " 15  listens        17734 non-null  int64 \n",
      " 16  lyricist       53 non-null     object\n",
      " 17  number         17734 non-null  int64 \n",
      " 18  publisher      52 non-null     object\n",
      " 19  tags           17734 non-null  object\n",
      " 20  title          17734 non-null  object\n",
      "dtypes: int64(8), object(13)\n",
      "memory usage: 2.8+ MB\n"
     ]
    }
   ],
   "source": [
    "tracks.info()"
   ]
  },
  {
   "cell_type": "code",
   "execution_count": 8,
   "metadata": {},
   "outputs": [
    {
     "data": {
      "text/html": [
       "<div>\n",
       "<style scoped>\n",
       "    .dataframe tbody tr th:only-of-type {\n",
       "        vertical-align: middle;\n",
       "    }\n",
       "\n",
       "    .dataframe tbody tr th {\n",
       "        vertical-align: top;\n",
       "    }\n",
       "\n",
       "    .dataframe thead th {\n",
       "        text-align: right;\n",
       "    }\n",
       "</style>\n",
       "<table border=\"1\" class=\"dataframe\">\n",
       "  <thead>\n",
       "    <tr style=\"text-align: right;\">\n",
       "      <th></th>\n",
       "      <th>track_id</th>\n",
       "      <th>bit_rate</th>\n",
       "      <th>comments</th>\n",
       "      <th>duration</th>\n",
       "      <th>favorites</th>\n",
       "      <th>interest</th>\n",
       "      <th>listens</th>\n",
       "      <th>number</th>\n",
       "    </tr>\n",
       "  </thead>\n",
       "  <tbody>\n",
       "    <tr>\n",
       "      <th>count</th>\n",
       "      <td>17734.000000</td>\n",
       "      <td>17734.000000</td>\n",
       "      <td>17734.000000</td>\n",
       "      <td>17734.000000</td>\n",
       "      <td>17734.000000</td>\n",
       "      <td>1.773400e+04</td>\n",
       "      <td>17734.000000</td>\n",
       "      <td>17734.000000</td>\n",
       "    </tr>\n",
       "    <tr>\n",
       "      <th>mean</th>\n",
       "      <td>69394.145991</td>\n",
       "      <td>258971.413781</td>\n",
       "      <td>0.020695</td>\n",
       "      <td>220.942934</td>\n",
       "      <td>1.685237</td>\n",
       "      <td>1.678238e+03</td>\n",
       "      <td>1079.709541</td>\n",
       "      <td>6.184110</td>\n",
       "    </tr>\n",
       "    <tr>\n",
       "      <th>std</th>\n",
       "      <td>45784.589753</td>\n",
       "      <td>61535.621463</td>\n",
       "      <td>0.270070</td>\n",
       "      <td>177.906821</td>\n",
       "      <td>6.629402</td>\n",
       "      <td>9.394969e+03</td>\n",
       "      <td>4693.497635</td>\n",
       "      <td>7.075062</td>\n",
       "    </tr>\n",
       "    <tr>\n",
       "      <th>min</th>\n",
       "      <td>2.000000</td>\n",
       "      <td>-1.000000</td>\n",
       "      <td>0.000000</td>\n",
       "      <td>2.000000</td>\n",
       "      <td>0.000000</td>\n",
       "      <td>1.800000e+01</td>\n",
       "      <td>9.000000</td>\n",
       "      <td>0.000000</td>\n",
       "    </tr>\n",
       "    <tr>\n",
       "      <th>25%</th>\n",
       "      <td>29979.000000</td>\n",
       "      <td>220982.000000</td>\n",
       "      <td>0.000000</td>\n",
       "      <td>139.000000</td>\n",
       "      <td>0.000000</td>\n",
       "      <td>4.210000e+02</td>\n",
       "      <td>214.000000</td>\n",
       "      <td>2.000000</td>\n",
       "    </tr>\n",
       "    <tr>\n",
       "      <th>50%</th>\n",
       "      <td>64193.500000</td>\n",
       "      <td>256000.000000</td>\n",
       "      <td>0.000000</td>\n",
       "      <td>192.000000</td>\n",
       "      <td>1.000000</td>\n",
       "      <td>8.240000e+02</td>\n",
       "      <td>461.000000</td>\n",
       "      <td>5.000000</td>\n",
       "    </tr>\n",
       "    <tr>\n",
       "      <th>75%</th>\n",
       "      <td>109442.750000</td>\n",
       "      <td>320000.000000</td>\n",
       "      <td>0.000000</td>\n",
       "      <td>255.000000</td>\n",
       "      <td>2.000000</td>\n",
       "      <td>1.628000e+03</td>\n",
       "      <td>1018.000000</td>\n",
       "      <td>8.000000</td>\n",
       "    </tr>\n",
       "    <tr>\n",
       "      <th>max</th>\n",
       "      <td>155319.000000</td>\n",
       "      <td>448000.000000</td>\n",
       "      <td>24.000000</td>\n",
       "      <td>3675.000000</td>\n",
       "      <td>554.000000</td>\n",
       "      <td>1.038669e+06</td>\n",
       "      <td>433992.000000</td>\n",
       "      <td>100.000000</td>\n",
       "    </tr>\n",
       "  </tbody>\n",
       "</table>\n",
       "</div>"
      ],
      "text/plain": [
       "            track_id       bit_rate      comments      duration     favorites  \\\n",
       "count   17734.000000   17734.000000  17734.000000  17734.000000  17734.000000   \n",
       "mean    69394.145991  258971.413781      0.020695    220.942934      1.685237   \n",
       "std     45784.589753   61535.621463      0.270070    177.906821      6.629402   \n",
       "min         2.000000      -1.000000      0.000000      2.000000      0.000000   \n",
       "25%     29979.000000  220982.000000      0.000000    139.000000      0.000000   \n",
       "50%     64193.500000  256000.000000      0.000000    192.000000      1.000000   \n",
       "75%    109442.750000  320000.000000      0.000000    255.000000      2.000000   \n",
       "max    155319.000000  448000.000000     24.000000   3675.000000    554.000000   \n",
       "\n",
       "           interest        listens        number  \n",
       "count  1.773400e+04   17734.000000  17734.000000  \n",
       "mean   1.678238e+03    1079.709541      6.184110  \n",
       "std    9.394969e+03    4693.497635      7.075062  \n",
       "min    1.800000e+01       9.000000      0.000000  \n",
       "25%    4.210000e+02     214.000000      2.000000  \n",
       "50%    8.240000e+02     461.000000      5.000000  \n",
       "75%    1.628000e+03    1018.000000      8.000000  \n",
       "max    1.038669e+06  433992.000000    100.000000  "
      ]
     },
     "execution_count": 8,
     "metadata": {},
     "output_type": "execute_result"
    }
   ],
   "source": [
    "tracks.describe()"
   ]
  },
  {
   "cell_type": "code",
   "execution_count": 9,
   "metadata": {},
   "outputs": [
    {
     "data": {
      "text/plain": [
       "(13129, 9)"
      ]
     },
     "execution_count": 9,
     "metadata": {},
     "output_type": "execute_result"
    }
   ],
   "source": [
    "echonest.shape"
   ]
  },
  {
   "cell_type": "code",
   "execution_count": 10,
   "metadata": {},
   "outputs": [
    {
     "name": "stdout",
     "output_type": "stream",
     "text": [
      "<class 'pandas.core.frame.DataFrame'>\n",
      "Int64Index: 13129 entries, 0 to 13128\n",
      "Data columns (total 9 columns):\n",
      " #   Column            Non-Null Count  Dtype  \n",
      "---  ------            --------------  -----  \n",
      " 0   track_id          13129 non-null  int64  \n",
      " 1   acousticness      13129 non-null  float64\n",
      " 2   danceability      13129 non-null  float64\n",
      " 3   energy            13129 non-null  float64\n",
      " 4   instrumentalness  13129 non-null  float64\n",
      " 5   liveness          13129 non-null  float64\n",
      " 6   speechiness       13129 non-null  float64\n",
      " 7   tempo             13129 non-null  float64\n",
      " 8   valence           13129 non-null  float64\n",
      "dtypes: float64(8), int64(1)\n",
      "memory usage: 1.0 MB\n"
     ]
    }
   ],
   "source": [
    "echonest.info()"
   ]
  },
  {
   "cell_type": "code",
   "execution_count": 11,
   "metadata": {},
   "outputs": [
    {
     "data": {
      "text/html": [
       "<div>\n",
       "<style scoped>\n",
       "    .dataframe tbody tr th:only-of-type {\n",
       "        vertical-align: middle;\n",
       "    }\n",
       "\n",
       "    .dataframe tbody tr th {\n",
       "        vertical-align: top;\n",
       "    }\n",
       "\n",
       "    .dataframe thead th {\n",
       "        text-align: right;\n",
       "    }\n",
       "</style>\n",
       "<table border=\"1\" class=\"dataframe\">\n",
       "  <thead>\n",
       "    <tr style=\"text-align: right;\">\n",
       "      <th></th>\n",
       "      <th>track_id</th>\n",
       "      <th>acousticness</th>\n",
       "      <th>danceability</th>\n",
       "      <th>energy</th>\n",
       "      <th>instrumentalness</th>\n",
       "      <th>liveness</th>\n",
       "      <th>speechiness</th>\n",
       "      <th>tempo</th>\n",
       "      <th>valence</th>\n",
       "    </tr>\n",
       "  </thead>\n",
       "  <tbody>\n",
       "    <tr>\n",
       "      <th>count</th>\n",
       "      <td>13129.000000</td>\n",
       "      <td>1.312900e+04</td>\n",
       "      <td>13129.000000</td>\n",
       "      <td>13129.000000</td>\n",
       "      <td>13129.000000</td>\n",
       "      <td>13129.000000</td>\n",
       "      <td>13129.000000</td>\n",
       "      <td>13129.000000</td>\n",
       "      <td>13129.000000</td>\n",
       "    </tr>\n",
       "    <tr>\n",
       "      <th>mean</th>\n",
       "      <td>34031.058268</td>\n",
       "      <td>5.246876e-01</td>\n",
       "      <td>0.487290</td>\n",
       "      <td>0.537516</td>\n",
       "      <td>0.640536</td>\n",
       "      <td>0.187804</td>\n",
       "      <td>0.099174</td>\n",
       "      <td>123.080061</td>\n",
       "      <td>0.439761</td>\n",
       "    </tr>\n",
       "    <tr>\n",
       "      <th>std</th>\n",
       "      <td>28950.422182</td>\n",
       "      <td>3.837186e-01</td>\n",
       "      <td>0.190148</td>\n",
       "      <td>0.278049</td>\n",
       "      <td>0.361430</td>\n",
       "      <td>0.158051</td>\n",
       "      <td>0.137381</td>\n",
       "      <td>35.015137</td>\n",
       "      <td>0.276028</td>\n",
       "    </tr>\n",
       "    <tr>\n",
       "      <th>min</th>\n",
       "      <td>2.000000</td>\n",
       "      <td>9.035000e-07</td>\n",
       "      <td>0.051307</td>\n",
       "      <td>0.000020</td>\n",
       "      <td>0.000000</td>\n",
       "      <td>0.025297</td>\n",
       "      <td>0.022324</td>\n",
       "      <td>12.753000</td>\n",
       "      <td>0.000010</td>\n",
       "    </tr>\n",
       "    <tr>\n",
       "      <th>25%</th>\n",
       "      <td>12986.000000</td>\n",
       "      <td>1.037726e-01</td>\n",
       "      <td>0.344759</td>\n",
       "      <td>0.321300</td>\n",
       "      <td>0.323466</td>\n",
       "      <td>0.101406</td>\n",
       "      <td>0.036932</td>\n",
       "      <td>95.967000</td>\n",
       "      <td>0.197321</td>\n",
       "    </tr>\n",
       "    <tr>\n",
       "      <th>50%</th>\n",
       "      <td>28097.000000</td>\n",
       "      <td>5.739848e-01</td>\n",
       "      <td>0.485635</td>\n",
       "      <td>0.549113</td>\n",
       "      <td>0.838134</td>\n",
       "      <td>0.119002</td>\n",
       "      <td>0.049019</td>\n",
       "      <td>120.057000</td>\n",
       "      <td>0.417743</td>\n",
       "    </tr>\n",
       "    <tr>\n",
       "      <th>75%</th>\n",
       "      <td>45021.000000</td>\n",
       "      <td>9.207270e-01</td>\n",
       "      <td>0.629094</td>\n",
       "      <td>0.776254</td>\n",
       "      <td>0.918244</td>\n",
       "      <td>0.211041</td>\n",
       "      <td>0.085452</td>\n",
       "      <td>145.318000</td>\n",
       "      <td>0.665575</td>\n",
       "    </tr>\n",
       "    <tr>\n",
       "      <th>max</th>\n",
       "      <td>124911.000000</td>\n",
       "      <td>9.957965e-01</td>\n",
       "      <td>0.968645</td>\n",
       "      <td>0.999964</td>\n",
       "      <td>0.998016</td>\n",
       "      <td>0.980330</td>\n",
       "      <td>0.966177</td>\n",
       "      <td>251.072000</td>\n",
       "      <td>0.999990</td>\n",
       "    </tr>\n",
       "  </tbody>\n",
       "</table>\n",
       "</div>"
      ],
      "text/plain": [
       "            track_id  acousticness  danceability        energy  \\\n",
       "count   13129.000000  1.312900e+04  13129.000000  13129.000000   \n",
       "mean    34031.058268  5.246876e-01      0.487290      0.537516   \n",
       "std     28950.422182  3.837186e-01      0.190148      0.278049   \n",
       "min         2.000000  9.035000e-07      0.051307      0.000020   \n",
       "25%     12986.000000  1.037726e-01      0.344759      0.321300   \n",
       "50%     28097.000000  5.739848e-01      0.485635      0.549113   \n",
       "75%     45021.000000  9.207270e-01      0.629094      0.776254   \n",
       "max    124911.000000  9.957965e-01      0.968645      0.999964   \n",
       "\n",
       "       instrumentalness      liveness   speechiness         tempo  \\\n",
       "count      13129.000000  13129.000000  13129.000000  13129.000000   \n",
       "mean           0.640536      0.187804      0.099174    123.080061   \n",
       "std            0.361430      0.158051      0.137381     35.015137   \n",
       "min            0.000000      0.025297      0.022324     12.753000   \n",
       "25%            0.323466      0.101406      0.036932     95.967000   \n",
       "50%            0.838134      0.119002      0.049019    120.057000   \n",
       "75%            0.918244      0.211041      0.085452    145.318000   \n",
       "max            0.998016      0.980330      0.966177    251.072000   \n",
       "\n",
       "            valence  \n",
       "count  13129.000000  \n",
       "mean       0.439761  \n",
       "std        0.276028  \n",
       "min        0.000010  \n",
       "25%        0.197321  \n",
       "50%        0.417743  \n",
       "75%        0.665575  \n",
       "max        0.999990  "
      ]
     },
     "execution_count": 11,
     "metadata": {},
     "output_type": "execute_result"
    }
   ],
   "source": [
    "echonest.describe()"
   ]
  },
  {
   "cell_type": "code",
   "execution_count": 12,
   "metadata": {},
   "outputs": [],
   "source": [
    "#Required features made into a dataframe"
   ]
  },
  {
   "cell_type": "code",
   "execution_count": 13,
   "metadata": {},
   "outputs": [],
   "source": [
    "tracks_df = pd.merge(echonest, tracks[['track_id','genre_top']],on='track_id')"
   ]
  },
  {
   "cell_type": "code",
   "execution_count": 14,
   "metadata": {},
   "outputs": [
    {
     "data": {
      "text/plain": [
       "(4802, 10)"
      ]
     },
     "execution_count": 14,
     "metadata": {},
     "output_type": "execute_result"
    }
   ],
   "source": [
    "tracks_df.shape"
   ]
  },
  {
   "cell_type": "code",
   "execution_count": 15,
   "metadata": {},
   "outputs": [
    {
     "data": {
      "text/html": [
       "<div>\n",
       "<style scoped>\n",
       "    .dataframe tbody tr th:only-of-type {\n",
       "        vertical-align: middle;\n",
       "    }\n",
       "\n",
       "    .dataframe tbody tr th {\n",
       "        vertical-align: top;\n",
       "    }\n",
       "\n",
       "    .dataframe thead th {\n",
       "        text-align: right;\n",
       "    }\n",
       "</style>\n",
       "<table border=\"1\" class=\"dataframe\">\n",
       "  <thead>\n",
       "    <tr style=\"text-align: right;\">\n",
       "      <th></th>\n",
       "      <th>track_id</th>\n",
       "      <th>acousticness</th>\n",
       "      <th>danceability</th>\n",
       "      <th>energy</th>\n",
       "      <th>instrumentalness</th>\n",
       "      <th>liveness</th>\n",
       "      <th>speechiness</th>\n",
       "      <th>tempo</th>\n",
       "      <th>valence</th>\n",
       "      <th>genre_top</th>\n",
       "    </tr>\n",
       "  </thead>\n",
       "  <tbody>\n",
       "    <tr>\n",
       "      <th>0</th>\n",
       "      <td>2</td>\n",
       "      <td>0.416675</td>\n",
       "      <td>0.675894</td>\n",
       "      <td>0.634476</td>\n",
       "      <td>0.010628</td>\n",
       "      <td>0.177647</td>\n",
       "      <td>0.159310</td>\n",
       "      <td>165.922</td>\n",
       "      <td>0.576661</td>\n",
       "      <td>Hip-Hop</td>\n",
       "    </tr>\n",
       "    <tr>\n",
       "      <th>1</th>\n",
       "      <td>3</td>\n",
       "      <td>0.374408</td>\n",
       "      <td>0.528643</td>\n",
       "      <td>0.817461</td>\n",
       "      <td>0.001851</td>\n",
       "      <td>0.105880</td>\n",
       "      <td>0.461818</td>\n",
       "      <td>126.957</td>\n",
       "      <td>0.269240</td>\n",
       "      <td>Hip-Hop</td>\n",
       "    </tr>\n",
       "    <tr>\n",
       "      <th>2</th>\n",
       "      <td>5</td>\n",
       "      <td>0.043567</td>\n",
       "      <td>0.745566</td>\n",
       "      <td>0.701470</td>\n",
       "      <td>0.000697</td>\n",
       "      <td>0.373143</td>\n",
       "      <td>0.124595</td>\n",
       "      <td>100.260</td>\n",
       "      <td>0.621661</td>\n",
       "      <td>Hip-Hop</td>\n",
       "    </tr>\n",
       "    <tr>\n",
       "      <th>3</th>\n",
       "      <td>134</td>\n",
       "      <td>0.452217</td>\n",
       "      <td>0.513238</td>\n",
       "      <td>0.560410</td>\n",
       "      <td>0.019443</td>\n",
       "      <td>0.096567</td>\n",
       "      <td>0.525519</td>\n",
       "      <td>114.290</td>\n",
       "      <td>0.894072</td>\n",
       "      <td>Hip-Hop</td>\n",
       "    </tr>\n",
       "    <tr>\n",
       "      <th>4</th>\n",
       "      <td>153</td>\n",
       "      <td>0.988306</td>\n",
       "      <td>0.255661</td>\n",
       "      <td>0.979774</td>\n",
       "      <td>0.973006</td>\n",
       "      <td>0.121342</td>\n",
       "      <td>0.051740</td>\n",
       "      <td>90.241</td>\n",
       "      <td>0.034018</td>\n",
       "      <td>Rock</td>\n",
       "    </tr>\n",
       "  </tbody>\n",
       "</table>\n",
       "</div>"
      ],
      "text/plain": [
       "   track_id  acousticness  danceability    energy  instrumentalness  liveness  \\\n",
       "0         2      0.416675      0.675894  0.634476          0.010628  0.177647   \n",
       "1         3      0.374408      0.528643  0.817461          0.001851  0.105880   \n",
       "2         5      0.043567      0.745566  0.701470          0.000697  0.373143   \n",
       "3       134      0.452217      0.513238  0.560410          0.019443  0.096567   \n",
       "4       153      0.988306      0.255661  0.979774          0.973006  0.121342   \n",
       "\n",
       "   speechiness    tempo   valence genre_top  \n",
       "0     0.159310  165.922  0.576661   Hip-Hop  \n",
       "1     0.461818  126.957  0.269240   Hip-Hop  \n",
       "2     0.124595  100.260  0.621661   Hip-Hop  \n",
       "3     0.525519  114.290  0.894072   Hip-Hop  \n",
       "4     0.051740   90.241  0.034018      Rock  "
      ]
     },
     "execution_count": 15,
     "metadata": {},
     "output_type": "execute_result"
    }
   ],
   "source": [
    "tracks_df.head()"
   ]
  },
  {
   "cell_type": "code",
   "execution_count": 16,
   "metadata": {},
   "outputs": [
    {
     "data": {
      "text/plain": [
       "<matplotlib.axes._subplots.AxesSubplot at 0x7fe9e09afdf0>"
      ]
     },
     "execution_count": 16,
     "metadata": {},
     "output_type": "execute_result"
    },
    {
     "data": {
      "image/png": "[encoded data removed]",
      "text/plain": [
       "<Figure size 432x288 with 1 Axes>"
      ]
     },
     "metadata": {
      "needs_background": "light"
     },
     "output_type": "display_data"
    }
   ],
   "source": [
    "sns.countplot(x=tracks_df['genre_top'])"
   ]
  },
  {
   "cell_type": "code",
   "execution_count": 17,
   "metadata": {},
   "outputs": [
    {
     "data": {
      "text/plain": [
       "Rock       3892\n",
       "Hip-Hop     910\n",
       "Name: genre_top, dtype: int64"
      ]
     },
     "execution_count": 17,
     "metadata": {},
     "output_type": "execute_result"
    }
   ],
   "source": [
    "count_genre = tracks_df['genre_top'].value_counts()\n",
    "count_genre"
   ]
  },
  {
   "cell_type": "code",
   "execution_count": 18,
   "metadata": {},
   "outputs": [
    {
     "name": "stdout",
     "output_type": "stream",
     "text": [
      "Ratio of dataset having genre Rock is: 81.04956268221575\n",
      "Ratio of dataset having genre Hip-Hop is: 18.950437317784257\n"
     ]
    }
   ],
   "source": [
    "print(\"Ratio of dataset having genre Rock is: {}\".format((count_genre['Rock']/tracks_df.shape[0])*100))\n",
    "print(\"Ratio of dataset having genre Hip-Hop is: {}\".format((count_genre['Hip-Hop']/tracks_df.shape[0])*100))"
   ]
  },
  {
   "cell_type": "markdown",
   "metadata": {},
   "source": [
    "## Pairwise relationships between continuous variables"
   ]
  },
  {
   "cell_type": "code",
   "execution_count": 19,
   "metadata": {},
   "outputs": [
    {
     "name": "stdout",
     "output_type": "stream",
     "text": [
      "                  track_id  acousticness  danceability    energy  \\\n",
      "track_id          1.000000     -0.372282      0.049454  0.140703   \n",
      "acousticness     -0.372282      1.000000     -0.028954 -0.281619   \n",
      "danceability      0.049454     -0.028954      1.000000 -0.242032   \n",
      "energy            0.140703     -0.281619     -0.242032  1.000000   \n",
      "instrumentalness -0.275623      0.194780     -0.255217  0.028238   \n",
      "liveness          0.048231     -0.019991     -0.106584  0.113331   \n",
      "speechiness      -0.026995      0.072204      0.276206 -0.109983   \n",
      "tempo            -0.025392     -0.026310     -0.242089  0.195227   \n",
      "valence           0.010070     -0.013841      0.473165  0.038603   \n",
      "\n",
      "                  instrumentalness  liveness  speechiness     tempo   valence  \n",
      "track_id                 -0.275623  0.048231    -0.026995 -0.025392  0.010070  \n",
      "acousticness              0.194780 -0.019991     0.072204 -0.026310 -0.013841  \n",
      "danceability             -0.255217 -0.106584     0.276206 -0.242089  0.473165  \n",
      "energy                    0.028238  0.113331    -0.109983  0.195227  0.038603  \n",
      "instrumentalness          1.000000 -0.091022    -0.366762  0.022215 -0.219967  \n",
      "liveness                 -0.091022  1.000000     0.041173  0.002732 -0.045093  \n",
      "speechiness              -0.366762  0.041173     1.000000  0.008241  0.149894  \n",
      "tempo                     0.022215  0.002732     0.008241  1.000000  0.052221  \n",
      "valence                  -0.219967 -0.045093     0.149894  0.052221  1.000000  \n"
     ]
    },
    {
     "data": {
      "image/png": "[encoded data removed]",
      "text/plain": [
       "<Figure size 1080x1080 with 2 Axes>"
      ]
     },
     "metadata": {
      "needs_background": "light"
     },
     "output_type": "display_data"
    }
   ],
   "source": [
    "correlation = tracks_df.corr()\n",
    "plt.figure(figsize=(15,15))\n",
    "sns.heatmap(correlation,annot=True)\n",
    "print(correlation)"
   ]
  },
  {
   "cell_type": "code",
   "execution_count": 20,
   "metadata": {},
   "outputs": [
    {
     "data": {
      "text/html": [
       "<style  type=\"text/css\" >\n",
       "    #T_6720fb42_dc12_11ea_a25e_5076af723783row0_col0 {\n",
       "            background-color:  #023858;\n",
       "            color:  #f1f1f1;\n",
       "        }    #T_6720fb42_dc12_11ea_a25e_5076af723783row0_col1 {\n",
       "            background-color:  #fff7fb;\n",
       "            color:  #000000;\n",
       "        }    #T_6720fb42_dc12_11ea_a25e_5076af723783row0_col2 {\n",
       "            background-color:  #d2d2e7;\n",
       "            color:  #000000;\n",
       "        }    #T_6720fb42_dc12_11ea_a25e_5076af723783row0_col3 {\n",
       "            background-color:  #b5c4df;\n",
       "            color:  #000000;\n",
       "        }    #T_6720fb42_dc12_11ea_a25e_5076af723783row0_col4 {\n",
       "            background-color:  #f5eef6;\n",
       "            color:  #000000;\n",
       "        }    #T_6720fb42_dc12_11ea_a25e_5076af723783row0_col5 {\n",
       "            background-color:  #e9e5f1;\n",
       "            color:  #000000;\n",
       "        }    #T_6720fb42_dc12_11ea_a25e_5076af723783row0_col6 {\n",
       "            background-color:  #d1d2e6;\n",
       "            color:  #000000;\n",
       "        }    #T_6720fb42_dc12_11ea_a25e_5076af723783row0_col7 {\n",
       "            background-color:  #e1dfed;\n",
       "            color:  #000000;\n",
       "        }    #T_6720fb42_dc12_11ea_a25e_5076af723783row0_col8 {\n",
       "            background-color:  #dedcec;\n",
       "            color:  #000000;\n",
       "        }    #T_6720fb42_dc12_11ea_a25e_5076af723783row1_col0 {\n",
       "            background-color:  #fff7fb;\n",
       "            color:  #000000;\n",
       "        }    #T_6720fb42_dc12_11ea_a25e_5076af723783row1_col1 {\n",
       "            background-color:  #023858;\n",
       "            color:  #f1f1f1;\n",
       "        }    #T_6720fb42_dc12_11ea_a25e_5076af723783row1_col2 {\n",
       "            background-color:  #e0dded;\n",
       "            color:  #000000;\n",
       "        }    #T_6720fb42_dc12_11ea_a25e_5076af723783row1_col3 {\n",
       "            background-color:  #fff7fb;\n",
       "            color:  #000000;\n",
       "        }    #T_6720fb42_dc12_11ea_a25e_5076af723783row1_col4 {\n",
       "            background-color:  #97b7d7;\n",
       "            color:  #000000;\n",
       "        }    #T_6720fb42_dc12_11ea_a25e_5076af723783row1_col5 {\n",
       "            background-color:  #f3edf5;\n",
       "            color:  #000000;\n",
       "        }    #T_6720fb42_dc12_11ea_a25e_5076af723783row1_col6 {\n",
       "            background-color:  #b8c6e0;\n",
       "            color:  #000000;\n",
       "        }    #T_6720fb42_dc12_11ea_a25e_5076af723783row1_col7 {\n",
       "            background-color:  #e1dfed;\n",
       "            color:  #000000;\n",
       "        }    #T_6720fb42_dc12_11ea_a25e_5076af723783row1_col8 {\n",
       "            background-color:  #e2dfee;\n",
       "            color:  #000000;\n",
       "        }    #T_6720fb42_dc12_11ea_a25e_5076af723783row2_col0 {\n",
       "            background-color:  #bdc8e1;\n",
       "            color:  #000000;\n",
       "        }    #T_6720fb42_dc12_11ea_a25e_5076af723783row2_col1 {\n",
       "            background-color:  #d0d1e6;\n",
       "            color:  #000000;\n",
       "        }    #T_6720fb42_dc12_11ea_a25e_5076af723783row2_col2 {\n",
       "            background-color:  #023858;\n",
       "            color:  #f1f1f1;\n",
       "        }    #T_6720fb42_dc12_11ea_a25e_5076af723783row2_col3 {\n",
       "            background-color:  #fbf3f9;\n",
       "            color:  #000000;\n",
       "        }    #T_6720fb42_dc12_11ea_a25e_5076af723783row2_col4 {\n",
       "            background-color:  #f3edf5;\n",
       "            color:  #000000;\n",
       "        }    #T_6720fb42_dc12_11ea_a25e_5076af723783row2_col5 {\n",
       "            background-color:  #fff7fb;\n",
       "            color:  #000000;\n",
       "        }    #T_6720fb42_dc12_11ea_a25e_5076af723783row2_col6 {\n",
       "            background-color:  #80aed2;\n",
       "            color:  #000000;\n",
       "        }    #T_6720fb42_dc12_11ea_a25e_5076af723783row2_col7 {\n",
       "            background-color:  #fff7fb;\n",
       "            color:  #000000;\n",
       "        }    #T_6720fb42_dc12_11ea_a25e_5076af723783row2_col8 {\n",
       "            background-color:  #529bc7;\n",
       "            color:  #000000;\n",
       "        }    #T_6720fb42_dc12_11ea_a25e_5076af723783row3_col0 {\n",
       "            background-color:  #a7bddb;\n",
       "            color:  #000000;\n",
       "        }    #T_6720fb42_dc12_11ea_a25e_5076af723783row3_col1 {\n",
       "            background-color:  #f5eff6;\n",
       "            color:  #000000;\n",
       "        }    #T_6720fb42_dc12_11ea_a25e_5076af723783row3_col2 {\n",
       "            background-color:  #fef6fa;\n",
       "            color:  #000000;\n",
       "        }    #T_6720fb42_dc12_11ea_a25e_5076af723783row3_col3 {\n",
       "            background-color:  #023858;\n",
       "            color:  #f1f1f1;\n",
       "        }    #T_6720fb42_dc12_11ea_a25e_5076af723783row3_col4 {\n",
       "            background-color:  #c4cbe3;\n",
       "            color:  #000000;\n",
       "        }    #T_6720fb42_dc12_11ea_a25e_5076af723783row3_col5 {\n",
       "            background-color:  #dcdaeb;\n",
       "            color:  #000000;\n",
       "        }    #T_6720fb42_dc12_11ea_a25e_5076af723783row3_col6 {\n",
       "            background-color:  #dedcec;\n",
       "            color:  #000000;\n",
       "        }    #T_6720fb42_dc12_11ea_a25e_5076af723783row3_col7 {\n",
       "            background-color:  #adc1dd;\n",
       "            color:  #000000;\n",
       "        }    #T_6720fb42_dc12_11ea_a25e_5076af723783row3_col8 {\n",
       "            background-color:  #d9d8ea;\n",
       "            color:  #000000;\n",
       "        }    #T_6720fb42_dc12_11ea_a25e_5076af723783row4_col0 {\n",
       "            background-color:  #f4eef6;\n",
       "            color:  #000000;\n",
       "        }    #T_6720fb42_dc12_11ea_a25e_5076af723783row4_col1 {\n",
       "            background-color:  #97b7d7;\n",
       "            color:  #000000;\n",
       "        }    #T_6720fb42_dc12_11ea_a25e_5076af723783row4_col2 {\n",
       "            background-color:  #fff7fb;\n",
       "            color:  #000000;\n",
       "        }    #T_6720fb42_dc12_11ea_a25e_5076af723783row4_col3 {\n",
       "            background-color:  #d2d3e7;\n",
       "            color:  #000000;\n",
       "        }    #T_6720fb42_dc12_11ea_a25e_5076af723783row4_col4 {\n",
       "            background-color:  #023858;\n",
       "            color:  #f1f1f1;\n",
       "        }    #T_6720fb42_dc12_11ea_a25e_5076af723783row4_col5 {\n",
       "            background-color:  #fdf5fa;\n",
       "            color:  #000000;\n",
       "        }    #T_6720fb42_dc12_11ea_a25e_5076af723783row4_col6 {\n",
       "            background-color:  #fff7fb;\n",
       "            color:  #000000;\n",
       "        }    #T_6720fb42_dc12_11ea_a25e_5076af723783row4_col7 {\n",
       "            background-color:  #d9d8ea;\n",
       "            color:  #000000;\n",
       "        }    #T_6720fb42_dc12_11ea_a25e_5076af723783row4_col8 {\n",
       "            background-color:  #fff7fb;\n",
       "            color:  #000000;\n",
       "        }    #T_6720fb42_dc12_11ea_a25e_5076af723783row5_col0 {\n",
       "            background-color:  #bdc8e1;\n",
       "            color:  #000000;\n",
       "        }    #T_6720fb42_dc12_11ea_a25e_5076af723783row5_col1 {\n",
       "            background-color:  #ced0e6;\n",
       "            color:  #000000;\n",
       "        }    #T_6720fb42_dc12_11ea_a25e_5076af723783row5_col2 {\n",
       "            background-color:  #ede8f3;\n",
       "            color:  #000000;\n",
       "        }    #T_6720fb42_dc12_11ea_a25e_5076af723783row5_col3 {\n",
       "            background-color:  #bdc8e1;\n",
       "            color:  #000000;\n",
       "        }    #T_6720fb42_dc12_11ea_a25e_5076af723783row5_col4 {\n",
       "            background-color:  #dbdaeb;\n",
       "            color:  #000000;\n",
       "        }    #T_6720fb42_dc12_11ea_a25e_5076af723783row5_col5 {\n",
       "            background-color:  #023858;\n",
       "            color:  #f1f1f1;\n",
       "        }    #T_6720fb42_dc12_11ea_a25e_5076af723783row5_col6 {\n",
       "            background-color:  #c0c9e2;\n",
       "            color:  #000000;\n",
       "        }    #T_6720fb42_dc12_11ea_a25e_5076af723783row5_col7 {\n",
       "            background-color:  #dcdaeb;\n",
       "            color:  #000000;\n",
       "        }    #T_6720fb42_dc12_11ea_a25e_5076af723783row5_col8 {\n",
       "            background-color:  #e8e4f0;\n",
       "            color:  #000000;\n",
       "        }    #T_6720fb42_dc12_11ea_a25e_5076af723783row6_col0 {\n",
       "            background-color:  #d0d1e6;\n",
       "            color:  #000000;\n",
       "        }    #T_6720fb42_dc12_11ea_a25e_5076af723783row6_col1 {\n",
       "            background-color:  #b8c6e0;\n",
       "            color:  #000000;\n",
       "        }    #T_6720fb42_dc12_11ea_a25e_5076af723783row6_col2 {\n",
       "            background-color:  #93b5d6;\n",
       "            color:  #000000;\n",
       "        }    #T_6720fb42_dc12_11ea_a25e_5076af723783row6_col3 {\n",
       "            background-color:  #eae6f1;\n",
       "            color:  #000000;\n",
       "        }    #T_6720fb42_dc12_11ea_a25e_5076af723783row6_col4 {\n",
       "            background-color:  #fff7fb;\n",
       "            color:  #000000;\n",
       "        }    #T_6720fb42_dc12_11ea_a25e_5076af723783row6_col5 {\n",
       "            background-color:  #eae6f1;\n",
       "            color:  #000000;\n",
       "        }    #T_6720fb42_dc12_11ea_a25e_5076af723783row6_col6 {\n",
       "            background-color:  #023858;\n",
       "            color:  #f1f1f1;\n",
       "        }    #T_6720fb42_dc12_11ea_a25e_5076af723783row6_col7 {\n",
       "            background-color:  #dbdaeb;\n",
       "            color:  #000000;\n",
       "        }    #T_6720fb42_dc12_11ea_a25e_5076af723783row6_col8 {\n",
       "            background-color:  #bfc9e1;\n",
       "            color:  #000000;\n",
       "        }    #T_6720fb42_dc12_11ea_a25e_5076af723783row7_col0 {\n",
       "            background-color:  #d0d1e6;\n",
       "            color:  #000000;\n",
       "        }    #T_6720fb42_dc12_11ea_a25e_5076af723783row7_col1 {\n",
       "            background-color:  #d0d1e6;\n",
       "            color:  #000000;\n",
       "        }    #T_6720fb42_dc12_11ea_a25e_5076af723783row7_col2 {\n",
       "            background-color:  #fef6fa;\n",
       "            color:  #000000;\n",
       "        }    #T_6720fb42_dc12_11ea_a25e_5076af723783row7_col3 {\n",
       "            background-color:  #a7bddb;\n",
       "            color:  #000000;\n",
       "        }    #T_6720fb42_dc12_11ea_a25e_5076af723783row7_col4 {\n",
       "            background-color:  #c5cce3;\n",
       "            color:  #000000;\n",
       "        }    #T_6720fb42_dc12_11ea_a25e_5076af723783row7_col5 {\n",
       "            background-color:  #f0eaf4;\n",
       "            color:  #000000;\n",
       "        }    #T_6720fb42_dc12_11ea_a25e_5076af723783row7_col6 {\n",
       "            background-color:  #c8cde4;\n",
       "            color:  #000000;\n",
       "        }    #T_6720fb42_dc12_11ea_a25e_5076af723783row7_col7 {\n",
       "            background-color:  #023858;\n",
       "            color:  #f1f1f1;\n",
       "        }    #T_6720fb42_dc12_11ea_a25e_5076af723783row7_col8 {\n",
       "            background-color:  #d6d6e9;\n",
       "            color:  #000000;\n",
       "        }    #T_6720fb42_dc12_11ea_a25e_5076af723783row8_col0 {\n",
       "            background-color:  #c6cce3;\n",
       "            color:  #000000;\n",
       "        }    #T_6720fb42_dc12_11ea_a25e_5076af723783row8_col1 {\n",
       "            background-color:  #cdd0e5;\n",
       "            color:  #000000;\n",
       "        }    #T_6720fb42_dc12_11ea_a25e_5076af723783row8_col2 {\n",
       "            background-color:  #4c99c5;\n",
       "            color:  #000000;\n",
       "        }    #T_6720fb42_dc12_11ea_a25e_5076af723783row8_col3 {\n",
       "            background-color:  #d1d2e6;\n",
       "            color:  #000000;\n",
       "        }    #T_6720fb42_dc12_11ea_a25e_5076af723783row8_col4 {\n",
       "            background-color:  #efe9f3;\n",
       "            color:  #000000;\n",
       "        }    #T_6720fb42_dc12_11ea_a25e_5076af723783row8_col5 {\n",
       "            background-color:  #f7f0f7;\n",
       "            color:  #000000;\n",
       "        }    #T_6720fb42_dc12_11ea_a25e_5076af723783row8_col6 {\n",
       "            background-color:  #a5bddb;\n",
       "            color:  #000000;\n",
       "        }    #T_6720fb42_dc12_11ea_a25e_5076af723783row8_col7 {\n",
       "            background-color:  #d3d4e7;\n",
       "            color:  #000000;\n",
       "        }    #T_6720fb42_dc12_11ea_a25e_5076af723783row8_col8 {\n",
       "            background-color:  #023858;\n",
       "            color:  #f1f1f1;\n",
       "        }</style><table id=\"T_6720fb42_dc12_11ea_a25e_5076af723783\" ><thead>    <tr>        <th class=\"blank level0\" ></th>        <th class=\"col_heading level0 col0\" >track_id</th>        <th class=\"col_heading level0 col1\" >acousticness</th>        <th class=\"col_heading level0 col2\" >danceability</th>        <th class=\"col_heading level0 col3\" >energy</th>        <th class=\"col_heading level0 col4\" >instrumentalness</th>        <th class=\"col_heading level0 col5\" >liveness</th>        <th class=\"col_heading level0 col6\" >speechiness</th>        <th class=\"col_heading level0 col7\" >tempo</th>        <th class=\"col_heading level0 col8\" >valence</th>    </tr></thead><tbody>\n",
       "                <tr>\n",
       "                        <th id=\"T_6720fb42_dc12_11ea_a25e_5076af723783level0_row0\" class=\"row_heading level0 row0\" >track_id</th>\n",
       "                        <td id=\"T_6720fb42_dc12_11ea_a25e_5076af723783row0_col0\" class=\"data row0 col0\" >1.000000</td>\n",
       "                        <td id=\"T_6720fb42_dc12_11ea_a25e_5076af723783row0_col1\" class=\"data row0 col1\" >-0.372282</td>\n",
       "                        <td id=\"T_6720fb42_dc12_11ea_a25e_5076af723783row0_col2\" class=\"data row0 col2\" >0.049454</td>\n",
       "                        <td id=\"T_6720fb42_dc12_11ea_a25e_5076af723783row0_col3\" class=\"data row0 col3\" >0.140703</td>\n",
       "                        <td id=\"T_6720fb42_dc12_11ea_a25e_5076af723783row0_col4\" class=\"data row0 col4\" >-0.275623</td>\n",
       "                        <td id=\"T_6720fb42_dc12_11ea_a25e_5076af723783row0_col5\" class=\"data row0 col5\" >0.048231</td>\n",
       "                        <td id=\"T_6720fb42_dc12_11ea_a25e_5076af723783row0_col6\" class=\"data row0 col6\" >-0.026995</td>\n",
       "                        <td id=\"T_6720fb42_dc12_11ea_a25e_5076af723783row0_col7\" class=\"data row0 col7\" >-0.025392</td>\n",
       "                        <td id=\"T_6720fb42_dc12_11ea_a25e_5076af723783row0_col8\" class=\"data row0 col8\" >0.010070</td>\n",
       "            </tr>\n",
       "            <tr>\n",
       "                        <th id=\"T_6720fb42_dc12_11ea_a25e_5076af723783level0_row1\" class=\"row_heading level0 row1\" >acousticness</th>\n",
       "                        <td id=\"T_6720fb42_dc12_11ea_a25e_5076af723783row1_col0\" class=\"data row1 col0\" >-0.372282</td>\n",
       "                        <td id=\"T_6720fb42_dc12_11ea_a25e_5076af723783row1_col1\" class=\"data row1 col1\" >1.000000</td>\n",
       "                        <td id=\"T_6720fb42_dc12_11ea_a25e_5076af723783row1_col2\" class=\"data row1 col2\" >-0.028954</td>\n",
       "                        <td id=\"T_6720fb42_dc12_11ea_a25e_5076af723783row1_col3\" class=\"data row1 col3\" >-0.281619</td>\n",
       "                        <td id=\"T_6720fb42_dc12_11ea_a25e_5076af723783row1_col4\" class=\"data row1 col4\" >0.194780</td>\n",
       "                        <td id=\"T_6720fb42_dc12_11ea_a25e_5076af723783row1_col5\" class=\"data row1 col5\" >-0.019991</td>\n",
       "                        <td id=\"T_6720fb42_dc12_11ea_a25e_5076af723783row1_col6\" class=\"data row1 col6\" >0.072204</td>\n",
       "                        <td id=\"T_6720fb42_dc12_11ea_a25e_5076af723783row1_col7\" class=\"data row1 col7\" >-0.026310</td>\n",
       "                        <td id=\"T_6720fb42_dc12_11ea_a25e_5076af723783row1_col8\" class=\"data row1 col8\" >-0.013841</td>\n",
       "            </tr>\n",
       "            <tr>\n",
       "                        <th id=\"T_6720fb42_dc12_11ea_a25e_5076af723783level0_row2\" class=\"row_heading level0 row2\" >danceability</th>\n",
       "                        <td id=\"T_6720fb42_dc12_11ea_a25e_5076af723783row2_col0\" class=\"data row2 col0\" >0.049454</td>\n",
       "                        <td id=\"T_6720fb42_dc12_11ea_a25e_5076af723783row2_col1\" class=\"data row2 col1\" >-0.028954</td>\n",
       "                        <td id=\"T_6720fb42_dc12_11ea_a25e_5076af723783row2_col2\" class=\"data row2 col2\" >1.000000</td>\n",
       "                        <td id=\"T_6720fb42_dc12_11ea_a25e_5076af723783row2_col3\" class=\"data row2 col3\" >-0.242032</td>\n",
       "                        <td id=\"T_6720fb42_dc12_11ea_a25e_5076af723783row2_col4\" class=\"data row2 col4\" >-0.255217</td>\n",
       "                        <td id=\"T_6720fb42_dc12_11ea_a25e_5076af723783row2_col5\" class=\"data row2 col5\" >-0.106584</td>\n",
       "                        <td id=\"T_6720fb42_dc12_11ea_a25e_5076af723783row2_col6\" class=\"data row2 col6\" >0.276206</td>\n",
       "                        <td id=\"T_6720fb42_dc12_11ea_a25e_5076af723783row2_col7\" class=\"data row2 col7\" >-0.242089</td>\n",
       "                        <td id=\"T_6720fb42_dc12_11ea_a25e_5076af723783row2_col8\" class=\"data row2 col8\" >0.473165</td>\n",
       "            </tr>\n",
       "            <tr>\n",
       "                        <th id=\"T_6720fb42_dc12_11ea_a25e_5076af723783level0_row3\" class=\"row_heading level0 row3\" >energy</th>\n",
       "                        <td id=\"T_6720fb42_dc12_11ea_a25e_5076af723783row3_col0\" class=\"data row3 col0\" >0.140703</td>\n",
       "                        <td id=\"T_6720fb42_dc12_11ea_a25e_5076af723783row3_col1\" class=\"data row3 col1\" >-0.281619</td>\n",
       "                        <td id=\"T_6720fb42_dc12_11ea_a25e_5076af723783row3_col2\" class=\"data row3 col2\" >-0.242032</td>\n",
       "                        <td id=\"T_6720fb42_dc12_11ea_a25e_5076af723783row3_col3\" class=\"data row3 col3\" >1.000000</td>\n",
       "                        <td id=\"T_6720fb42_dc12_11ea_a25e_5076af723783row3_col4\" class=\"data row3 col4\" >0.028238</td>\n",
       "                        <td id=\"T_6720fb42_dc12_11ea_a25e_5076af723783row3_col5\" class=\"data row3 col5\" >0.113331</td>\n",
       "                        <td id=\"T_6720fb42_dc12_11ea_a25e_5076af723783row3_col6\" class=\"data row3 col6\" >-0.109983</td>\n",
       "                        <td id=\"T_6720fb42_dc12_11ea_a25e_5076af723783row3_col7\" class=\"data row3 col7\" >0.195227</td>\n",
       "                        <td id=\"T_6720fb42_dc12_11ea_a25e_5076af723783row3_col8\" class=\"data row3 col8\" >0.038603</td>\n",
       "            </tr>\n",
       "            <tr>\n",
       "                        <th id=\"T_6720fb42_dc12_11ea_a25e_5076af723783level0_row4\" class=\"row_heading level0 row4\" >instrumentalness</th>\n",
       "                        <td id=\"T_6720fb42_dc12_11ea_a25e_5076af723783row4_col0\" class=\"data row4 col0\" >-0.275623</td>\n",
       "                        <td id=\"T_6720fb42_dc12_11ea_a25e_5076af723783row4_col1\" class=\"data row4 col1\" >0.194780</td>\n",
       "                        <td id=\"T_6720fb42_dc12_11ea_a25e_5076af723783row4_col2\" class=\"data row4 col2\" >-0.255217</td>\n",
       "                        <td id=\"T_6720fb42_dc12_11ea_a25e_5076af723783row4_col3\" class=\"data row4 col3\" >0.028238</td>\n",
       "                        <td id=\"T_6720fb42_dc12_11ea_a25e_5076af723783row4_col4\" class=\"data row4 col4\" >1.000000</td>\n",
       "                        <td id=\"T_6720fb42_dc12_11ea_a25e_5076af723783row4_col5\" class=\"data row4 col5\" >-0.091022</td>\n",
       "                        <td id=\"T_6720fb42_dc12_11ea_a25e_5076af723783row4_col6\" class=\"data row4 col6\" >-0.366762</td>\n",
       "                        <td id=\"T_6720fb42_dc12_11ea_a25e_5076af723783row4_col7\" class=\"data row4 col7\" >0.022215</td>\n",
       "                        <td id=\"T_6720fb42_dc12_11ea_a25e_5076af723783row4_col8\" class=\"data row4 col8\" >-0.219967</td>\n",
       "            </tr>\n",
       "            <tr>\n",
       "                        <th id=\"T_6720fb42_dc12_11ea_a25e_5076af723783level0_row5\" class=\"row_heading level0 row5\" >liveness</th>\n",
       "                        <td id=\"T_6720fb42_dc12_11ea_a25e_5076af723783row5_col0\" class=\"data row5 col0\" >0.048231</td>\n",
       "                        <td id=\"T_6720fb42_dc12_11ea_a25e_5076af723783row5_col1\" class=\"data row5 col1\" >-0.019991</td>\n",
       "                        <td id=\"T_6720fb42_dc12_11ea_a25e_5076af723783row5_col2\" class=\"data row5 col2\" >-0.106584</td>\n",
       "                        <td id=\"T_6720fb42_dc12_11ea_a25e_5076af723783row5_col3\" class=\"data row5 col3\" >0.113331</td>\n",
       "                        <td id=\"T_6720fb42_dc12_11ea_a25e_5076af723783row5_col4\" class=\"data row5 col4\" >-0.091022</td>\n",
       "                        <td id=\"T_6720fb42_dc12_11ea_a25e_5076af723783row5_col5\" class=\"data row5 col5\" >1.000000</td>\n",
       "                        <td id=\"T_6720fb42_dc12_11ea_a25e_5076af723783row5_col6\" class=\"data row5 col6\" >0.041173</td>\n",
       "                        <td id=\"T_6720fb42_dc12_11ea_a25e_5076af723783row5_col7\" class=\"data row5 col7\" >0.002732</td>\n",
       "                        <td id=\"T_6720fb42_dc12_11ea_a25e_5076af723783row5_col8\" class=\"data row5 col8\" >-0.045093</td>\n",
       "            </tr>\n",
       "            <tr>\n",
       "                        <th id=\"T_6720fb42_dc12_11ea_a25e_5076af723783level0_row6\" class=\"row_heading level0 row6\" >speechiness</th>\n",
       "                        <td id=\"T_6720fb42_dc12_11ea_a25e_5076af723783row6_col0\" class=\"data row6 col0\" >-0.026995</td>\n",
       "                        <td id=\"T_6720fb42_dc12_11ea_a25e_5076af723783row6_col1\" class=\"data row6 col1\" >0.072204</td>\n",
       "                        <td id=\"T_6720fb42_dc12_11ea_a25e_5076af723783row6_col2\" class=\"data row6 col2\" >0.276206</td>\n",
       "                        <td id=\"T_6720fb42_dc12_11ea_a25e_5076af723783row6_col3\" class=\"data row6 col3\" >-0.109983</td>\n",
       "                        <td id=\"T_6720fb42_dc12_11ea_a25e_5076af723783row6_col4\" class=\"data row6 col4\" >-0.366762</td>\n",
       "                        <td id=\"T_6720fb42_dc12_11ea_a25e_5076af723783row6_col5\" class=\"data row6 col5\" >0.041173</td>\n",
       "                        <td id=\"T_6720fb42_dc12_11ea_a25e_5076af723783row6_col6\" class=\"data row6 col6\" >1.000000</td>\n",
       "                        <td id=\"T_6720fb42_dc12_11ea_a25e_5076af723783row6_col7\" class=\"data row6 col7\" >0.008241</td>\n",
       "                        <td id=\"T_6720fb42_dc12_11ea_a25e_5076af723783row6_col8\" class=\"data row6 col8\" >0.149894</td>\n",
       "            </tr>\n",
       "            <tr>\n",
       "                        <th id=\"T_6720fb42_dc12_11ea_a25e_5076af723783level0_row7\" class=\"row_heading level0 row7\" >tempo</th>\n",
       "                        <td id=\"T_6720fb42_dc12_11ea_a25e_5076af723783row7_col0\" class=\"data row7 col0\" >-0.025392</td>\n",
       "                        <td id=\"T_6720fb42_dc12_11ea_a25e_5076af723783row7_col1\" class=\"data row7 col1\" >-0.026310</td>\n",
       "                        <td id=\"T_6720fb42_dc12_11ea_a25e_5076af723783row7_col2\" class=\"data row7 col2\" >-0.242089</td>\n",
       "                        <td id=\"T_6720fb42_dc12_11ea_a25e_5076af723783row7_col3\" class=\"data row7 col3\" >0.195227</td>\n",
       "                        <td id=\"T_6720fb42_dc12_11ea_a25e_5076af723783row7_col4\" class=\"data row7 col4\" >0.022215</td>\n",
       "                        <td id=\"T_6720fb42_dc12_11ea_a25e_5076af723783row7_col5\" class=\"data row7 col5\" >0.002732</td>\n",
       "                        <td id=\"T_6720fb42_dc12_11ea_a25e_5076af723783row7_col6\" class=\"data row7 col6\" >0.008241</td>\n",
       "                        <td id=\"T_6720fb42_dc12_11ea_a25e_5076af723783row7_col7\" class=\"data row7 col7\" >1.000000</td>\n",
       "                        <td id=\"T_6720fb42_dc12_11ea_a25e_5076af723783row7_col8\" class=\"data row7 col8\" >0.052221</td>\n",
       "            </tr>\n",
       "            <tr>\n",
       "                        <th id=\"T_6720fb42_dc12_11ea_a25e_5076af723783level0_row8\" class=\"row_heading level0 row8\" >valence</th>\n",
       "                        <td id=\"T_6720fb42_dc12_11ea_a25e_5076af723783row8_col0\" class=\"data row8 col0\" >0.010070</td>\n",
       "                        <td id=\"T_6720fb42_dc12_11ea_a25e_5076af723783row8_col1\" class=\"data row8 col1\" >-0.013841</td>\n",
       "                        <td id=\"T_6720fb42_dc12_11ea_a25e_5076af723783row8_col2\" class=\"data row8 col2\" >0.473165</td>\n",
       "                        <td id=\"T_6720fb42_dc12_11ea_a25e_5076af723783row8_col3\" class=\"data row8 col3\" >0.038603</td>\n",
       "                        <td id=\"T_6720fb42_dc12_11ea_a25e_5076af723783row8_col4\" class=\"data row8 col4\" >-0.219967</td>\n",
       "                        <td id=\"T_6720fb42_dc12_11ea_a25e_5076af723783row8_col5\" class=\"data row8 col5\" >-0.045093</td>\n",
       "                        <td id=\"T_6720fb42_dc12_11ea_a25e_5076af723783row8_col6\" class=\"data row8 col6\" >0.149894</td>\n",
       "                        <td id=\"T_6720fb42_dc12_11ea_a25e_5076af723783row8_col7\" class=\"data row8 col7\" >0.052221</td>\n",
       "                        <td id=\"T_6720fb42_dc12_11ea_a25e_5076af723783row8_col8\" class=\"data row8 col8\" >1.000000</td>\n",
       "            </tr>\n",
       "    </tbody></table>"
      ],
      "text/plain": [
       "<pandas.io.formats.style.Styler at 0x7fe9e1f41f10>"
      ]
     },
     "execution_count": 20,
     "metadata": {},
     "output_type": "execute_result"
    }
   ],
   "source": [
    "correlation.style.background_gradient()"
   ]
  },
  {
   "cell_type": "code",
   "execution_count": null,
   "metadata": {},
   "outputs": [],
   "source": []
  },
  {
   "cell_type": "markdown",
   "metadata": {},
   "source": [
    "## Normalizing the feature data"
   ]
  },
  {
   "cell_type": "code",
   "execution_count": 21,
   "metadata": {},
   "outputs": [],
   "source": [
    "#standardisation\n",
    "from sklearn.preprocessing import StandardScaler\n",
    "\n",
    "track_train = tracks_df.drop(['track_id','genre_top'],axis=1)\n",
    "scaler = StandardScaler()\n",
    "scaled_track_train = scaler.fit_transform(track_train)"
   ]
  },
  {
   "cell_type": "code",
   "execution_count": 22,
   "metadata": {},
   "outputs": [
    {
     "name": "stdout",
     "output_type": "stream",
     "text": [
      "[[-0.19121034  1.30442004  0.03831594 ...  0.37303429  1.15397908\n",
      "   0.46228696]\n",
      " [-0.30603598  0.50188641  0.78817624 ...  2.44615517  0.00791367\n",
      "  -0.69081137]\n",
      " [-1.20481276  1.68413943  0.31285194 ...  0.13513049 -0.77731688\n",
      "   0.63107745]\n",
      " ...\n",
      " [-1.29470431  1.17682795  0.13265633 ...  0.85182206 -0.93541008\n",
      "  -0.07941825]\n",
      " [-1.13869115 -0.02253433  0.57117905 ...  1.40951543  1.31301348\n",
      "   0.47513794]\n",
      " [-0.90611434  1.10148973  0.56322452 ...  1.36030881 -1.43669053\n",
      "   0.76217464]]\n"
     ]
    }
   ],
   "source": [
    "print(scaled_track_train)"
   ]
  },
  {
   "cell_type": "markdown",
   "metadata": {},
   "source": [
    "## Principal Component Analysis on our scaled data"
   ]
  },
  {
   "cell_type": "code",
   "execution_count": 23,
   "metadata": {},
   "outputs": [
    {
     "data": {
      "text/plain": [
       "Text(0.5, 0, 'Principal Component Analysis')"
      ]
     },
     "execution_count": 23,
     "metadata": {},
     "output_type": "execute_result"
    },
    {
     "data": {
      "image/png": "[encoded data removed]",
      "text/plain": [
       "<Figure size 432x288 with 1 Axes>"
      ]
     },
     "metadata": {
      "needs_background": "light"
     },
     "output_type": "display_data"
    }
   ],
   "source": [
    "from sklearn.decomposition import PCA\n",
    "\n",
    "pca = PCA()\n",
    "\n",
    "pca.fit(scaled_track_train)\n",
    "var = pca.explained_variance_ratio_\n",
    "\n",
    "fig, ax = plt.subplots()\n",
    "ax.bar(range(len(var)), var)\n",
    "ax.set_xlabel('Principal Component Analysis')\n"
   ]
  },
  {
   "cell_type": "code",
   "execution_count": 24,
   "metadata": {},
   "outputs": [
    {
     "name": "stdout",
     "output_type": "stream",
     "text": [
      "Explained variance [0.24297674 0.18044316 0.13650309 0.12994089 0.11056248 0.08302245\n",
      " 0.06923783 0.04731336]\n",
      "No of features 8\n"
     ]
    }
   ],
   "source": [
    "print(\"Explained variance {}\".format(var))\n",
    "print(\"No of features {}\".format(len(var)))"
   ]
  },
  {
   "cell_type": "markdown",
   "metadata": {},
   "source": [
    "## Further visualization of PCA"
   ]
  },
  {
   "cell_type": "code",
   "execution_count": 25,
   "metadata": {},
   "outputs": [
    {
     "data": {
      "image/png": "[encoded data removed]",
      "text/plain": [
       "<Figure size 432x288 with 1 Axes>"
      ]
     },
     "metadata": {
      "needs_background": "light"
     },
     "output_type": "display_data"
    }
   ],
   "source": [
    "cum_var = np.cumsum(var)\n",
    "\n",
    "fig, ax = plt.subplots()\n",
    "ax.plot(range(len(var)), cum_var)\n",
    "ax.axhline(y=0.9, linestyle='--')\n",
    "n_components = 6\n",
    "\n",
    "pca = PCA(n_components, random_state=10)\n",
    "pca.fit(scaled_track_train)\n",
    "pca_final= pca.transform(scaled_track_train)"
   ]
  },
  {
   "cell_type": "markdown",
   "metadata": {},
   "source": [
    "## Train a decision tree to classify genre"
   ]
  },
  {
   "cell_type": "code",
   "execution_count": 26,
   "metadata": {},
   "outputs": [],
   "source": [
    "from sklearn.model_selection import train_test_split\n",
    "from sklearn.tree import DecisionTreeClassifier\n",
    "\n",
    "X_train, X_test, y_train, y_test = train_test_split(pca_final,tracks_df['genre_top'].values,random_state=42)\n",
    "\n",
    "tree = DecisionTreeClassifier(random_state=42)\n",
    "tree.fit(X_train, y_train)\n",
    "\n",
    "y_pred = tree.predict(X_test)"
   ]
  },
  {
   "cell_type": "code",
   "execution_count": 27,
   "metadata": {},
   "outputs": [
    {
     "data": {
      "text/plain": [
       "array(['Rock', 'Rock', 'Hip-Hop', ..., 'Rock', 'Hip-Hop', 'Hip-Hop'],\n",
       "      dtype=object)"
      ]
     },
     "execution_count": 27,
     "metadata": {},
     "output_type": "execute_result"
    }
   ],
   "source": [
    "y_pred"
   ]
  },
  {
   "cell_type": "code",
   "execution_count": 28,
   "metadata": {},
   "outputs": [
    {
     "data": {
      "text/plain": [
       "array(['Rock', 'Hip-Hop', 'Hip-Hop', ..., 'Rock', 'Hip-Hop', 'Hip-Hop'],\n",
       "      dtype=object)"
      ]
     },
     "execution_count": 28,
     "metadata": {},
     "output_type": "execute_result"
    }
   ],
   "source": [
    "y_test"
   ]
  },
  {
   "cell_type": "code",
   "execution_count": 29,
   "metadata": {},
   "outputs": [
    {
     "name": "stdout",
     "output_type": "stream",
     "text": [
      "              precision    recall  f1-score   support\n",
      "\n",
      "     Hip-Hop       0.62      0.65      0.63       225\n",
      "        Rock       0.92      0.91      0.91       976\n",
      "\n",
      "    accuracy                           0.86      1201\n",
      "   macro avg       0.77      0.78      0.77      1201\n",
      "weighted avg       0.86      0.86      0.86      1201\n",
      "\n"
     ]
    }
   ],
   "source": [
    "from sklearn.metrics import classification_report\n",
    "\n",
    "print(classification_report(y_test,y_pred))"
   ]
  },
  {
   "cell_type": "code",
   "execution_count": 30,
   "metadata": {},
   "outputs": [
    {
     "name": "stdout",
     "output_type": "stream",
     "text": [
      "Accuracy: 85.8451290591174\n"
     ]
    }
   ],
   "source": [
    "from sklearn.metrics import accuracy_score\n",
    "accuracy_det= accuracy_score(y_test,y_pred)*100\n",
    "print(\"Accuracy: {}\".format(accuracy_score(y_test,y_pred)*100))    "
   ]
  },
  {
   "cell_type": "markdown",
   "metadata": {},
   "source": [
    "## Compare our decision tree to a logistic regression"
   ]
  },
  {
   "cell_type": "code",
   "execution_count": 31,
   "metadata": {},
   "outputs": [
    {
     "data": {
      "text/plain": [
       "LogisticRegression()"
      ]
     },
     "execution_count": 31,
     "metadata": {},
     "output_type": "execute_result"
    }
   ],
   "source": [
    "#Logistic Regression\n",
    "from sklearn.linear_model import LogisticRegression\n",
    "\n",
    "# instantiate the model (using the default parameters)\n",
    "logreg = LogisticRegression()\n",
    "\n",
    "# fit the model with data\n",
    "logreg.fit(X_train,y_train)"
   ]
  },
  {
   "cell_type": "code",
   "execution_count": 32,
   "metadata": {},
   "outputs": [
    {
     "data": {
      "text/plain": [
       "array(['Rock', 'Rock', 'Hip-Hop', ..., 'Rock', 'Hip-Hop', 'Hip-Hop'],\n",
       "      dtype=object)"
      ]
     },
     "execution_count": 32,
     "metadata": {},
     "output_type": "execute_result"
    }
   ],
   "source": [
    "y_pred=logreg.predict(X_test)\n",
    "y_pred"
   ]
  },
  {
   "cell_type": "code",
   "execution_count": 33,
   "metadata": {},
   "outputs": [
    {
     "name": "stdout",
     "output_type": "stream",
     "text": [
      "              precision    recall  f1-score   support\n",
      "\n",
      "     Hip-Hop       0.78      0.54      0.64       225\n",
      "        Rock       0.90      0.97      0.93       976\n",
      "\n",
      "    accuracy                           0.89      1201\n",
      "   macro avg       0.84      0.75      0.78      1201\n",
      "weighted avg       0.88      0.89      0.88      1201\n",
      "\n"
     ]
    }
   ],
   "source": [
    "from sklearn.metrics import classification_report\n",
    "\n",
    "print(classification_report(y_test,y_pred))"
   ]
  },
  {
   "cell_type": "code",
   "execution_count": 34,
   "metadata": {},
   "outputs": [
    {
     "name": "stdout",
     "output_type": "stream",
     "text": [
      "Accuracy: 88.50957535387177\n"
     ]
    }
   ],
   "source": [
    "from sklearn.metrics import accuracy_score\n",
    "accuracy_log = accuracy_score(y_test,y_pred)*100\n",
    "print(\"Accuracy: {}\".format(accuracy_score(y_test,y_pred)*100))    "
   ]
  },
  {
   "cell_type": "code",
   "execution_count": 35,
   "metadata": {},
   "outputs": [
    {
     "name": "stdout",
     "output_type": "stream",
     "text": [
      "Accuracy for Decision Tree model = 85.8451290591174\n",
      "Accuracy for Logistic Regression model = 88.50957535387177\n"
     ]
    }
   ],
   "source": [
    "#Comparison\n",
    "\n",
    "print(\"Accuracy for Decision Tree model = {}\".format(accuracy_det))\n",
    "print(\"Accuracy for Logistic Regression model = {}\".format(accuracy_log))"
   ]
  },
  {
   "cell_type": "markdown",
   "metadata": {},
   "source": [
    "## Balance our data for greater performance"
   ]
  },
  {
   "cell_type": "code",
   "execution_count": 36,
   "metadata": {},
   "outputs": [],
   "source": [
    "only_rock = tracks_df.loc[tracks_df['genre_top'] == 'Rock']\n",
    "only_hop = tracks_df.loc[tracks_df['genre_top'] == 'Hip-Hop']"
   ]
  },
  {
   "cell_type": "code",
   "execution_count": 37,
   "metadata": {},
   "outputs": [],
   "source": [
    "# sample the rocks songs to be the same number as there are hip-hop songs\n",
    "only_rock = only_rock.sample(len(only_hop), random_state=10)"
   ]
  },
  {
   "cell_type": "code",
   "execution_count": 38,
   "metadata": {},
   "outputs": [],
   "source": [
    "bal_data = pd.concat([only_rock, only_hop])"
   ]
  },
  {
   "cell_type": "code",
   "execution_count": 39,
   "metadata": {},
   "outputs": [],
   "source": [
    "features = bal_data.drop(['genre_top', 'track_id'], axis=1) \n",
    "labels = bal_data['genre_top']\n",
    "pca_proj = pca.fit_transform(scaler.fit_transform(features))"
   ]
  },
  {
   "cell_type": "code",
   "execution_count": 40,
   "metadata": {},
   "outputs": [],
   "source": [
    "# Redefine the train and test set with the pca_projection from the balanced data\n",
    "X_train, X_test, y_train, y_test = train_test_split(pca_proj, labels, random_state=10)"
   ]
  },
  {
   "cell_type": "markdown",
   "metadata": {},
   "source": [
    "## Does balancing our dataset improve model bias?"
   ]
  },
  {
   "cell_type": "code",
   "execution_count": 41,
   "metadata": {},
   "outputs": [],
   "source": [
    "tree = DecisionTreeClassifier(random_state=10)\n",
    "tree.fit(X_train,y_train)\n",
    "pred_labels_tree = tree.predict(X_test)"
   ]
  },
  {
   "cell_type": "code",
   "execution_count": 42,
   "metadata": {},
   "outputs": [],
   "source": [
    "logreg = LogisticRegression(random_state=10)\n",
    "logreg.fit(X_train,y_train)\n",
    "pred_labels_logit = logreg.predict(X_test)"
   ]
  },
  {
   "cell_type": "code",
   "execution_count": 43,
   "metadata": {},
   "outputs": [
    {
     "name": "stdout",
     "output_type": "stream",
     "text": [
      "------------Decision Tree Classification Report-----------\n",
      "               precision    recall  f1-score   support\n",
      "\n",
      "     Hip-Hop       0.74      0.73      0.74       230\n",
      "        Rock       0.73      0.74      0.73       225\n",
      "\n",
      "    accuracy                           0.74       455\n",
      "   macro avg       0.74      0.74      0.74       455\n",
      "weighted avg       0.74      0.74      0.74       455\n",
      "\n"
     ]
    }
   ],
   "source": [
    "print(\"------------Decision Tree Classification Report-----------\\n\", classification_report(y_test, pred_labels_tree))"
   ]
  },
  {
   "cell_type": "code",
   "execution_count": 44,
   "metadata": {},
   "outputs": [
    {
     "name": "stdout",
     "output_type": "stream",
     "text": [
      "-----------Logistic Regression Classification report-----------\n",
      "               precision    recall  f1-score   support\n",
      "\n",
      "     Hip-Hop       0.84      0.80      0.82       230\n",
      "        Rock       0.80      0.85      0.83       225\n",
      "\n",
      "    accuracy                           0.82       455\n",
      "   macro avg       0.82      0.82      0.82       455\n",
      "weighted avg       0.82      0.82      0.82       455\n",
      "\n"
     ]
    }
   ],
   "source": [
    "print(\"-----------Logistic Regression Classification report-----------\\n\", classification_report(y_test, pred_labels_logit))"
   ]
  },
  {
   "cell_type": "markdown",
   "metadata": {},
   "source": [
    "## Using cross-validation to evaluate our models"
   ]
  },
  {
   "cell_type": "code",
   "execution_count": 47,
   "metadata": {},
   "outputs": [
    {
     "name": "stdout",
     "output_type": "stream",
     "text": [
      "For Decision Tree: 0.7467032967032967\n",
      "For Logistic Regression: 0.782967032967033\n"
     ]
    },
    {
     "name": "stderr",
     "output_type": "stream",
     "text": [
      "/usr/lib/python3.8/site-packages/sklearn/model_selection/_split.py:293: FutureWarning: Setting a random_state has no effect since shuffle is False. This will raise an error in 0.24. You should leave random_state to its default (None), or set shuffle=True.\n",
      "  warnings.warn(\n"
     ]
    }
   ],
   "source": [
    "from sklearn.model_selection import KFold, cross_val_score\n",
    "\n",
    "\n",
    "kf = KFold(n_splits=10, random_state=42)\n",
    "\n",
    "tree = DecisionTreeClassifier(random_state=42)\n",
    "logreg = LogisticRegression(random_state=42)\n",
    "\n",
    "\n",
    "tree_score = cross_val_score(tree, pca_proj, labels, cv=kf)\n",
    "logit_score = cross_val_score(logreg, pca_proj, labels, cv=kf)\n",
    "\n",
    "# Print the mean of each array of scores\n",
    "print(\"For Decision Tree:\", np.mean(tree_score))\n",
    "print(\"For Logistic Regression:\", np.mean(logit_score))"
   ]
  }
 ],
 "metadata": {
  "kernelspec": {
   "display_name": "Python 3",
   "language": "python",
   "name": "python3"
  },
  "language_info": {
   "codemirror_mode": {
    "name": "ipython",
    "version": 3
   },
   "file_extension": ".py",
   "mimetype": "text/x-python",
   "name": "python",
   "nbconvert_exporter": "python",
   "pygments_lexer": "ipython3",
   "version": "3.8.3"
  }
 },
 "nbformat": 4,
 "nbformat_minor": 4
}
